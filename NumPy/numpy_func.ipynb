{
 "cells": [
  {
   "cell_type": "code",
   "execution_count": 1,
   "id": "468bd273",
   "metadata": {},
   "outputs": [],
   "source": [
    "import numpy as np"
   ]
  },
  {
   "cell_type": "code",
   "execution_count": 10,
   "id": "5be937c6",
   "metadata": {},
   "outputs": [],
   "source": [
    "ohlc1 = np.array([200.0, 201.5, 199.5, 201.0, 201.8, 203.0, 201.0, 202.5])\n",
    "\n",
    "\n",
    "ohlc2 = np.array([\n",
    "    [200.0, 201.5, 199.5, 208.0],\n",
    "    [201.0, 202.0, 200.5, 201.8],\n",
    "    [201.8, 203.0, 201.0, 202.5]\n",
    "])"
   ]
  },
  {
   "cell_type": "code",
   "execution_count": null,
   "id": "a4760ee2",
   "metadata": {},
   "outputs": [
    {
     "data": {
      "text/plain": [
       "array([199.5, 200. , 201. , 201. , 201.5, 201.8, 202.5, 203. ])"
      ]
     },
     "execution_count": 5,
     "metadata": {},
     "output_type": "execute_result"
    }
   ],
   "source": [
    "np.sort(ohlc1)[::-1]      # descending order sorting\n",
    "np.sort(ohlc1)            # ascending order sorting"
   ]
  },
  {
   "cell_type": "code",
   "execution_count": 12,
   "id": "3216d30f",
   "metadata": {},
   "outputs": [
    {
     "data": {
      "text/plain": [
       "array([[199.5, 200. , 201.5, 208. ],\n",
       "       [200.5, 201. , 201.8, 202. ],\n",
       "       [201. , 201.8, 202.5, 203. ]])"
      ]
     },
     "execution_count": 12,
     "metadata": {},
     "output_type": "execute_result"
    }
   ],
   "source": [
    "np.sort(ohlc2, axis=1)"
   ]
  }
 ],
 "metadata": {
  "kernelspec": {
   "display_name": "Python 3",
   "language": "python",
   "name": "python3"
  },
  "language_info": {
   "codemirror_mode": {
    "name": "ipython",
    "version": 3
   },
   "file_extension": ".py",
   "mimetype": "text/x-python",
   "name": "python",
   "nbconvert_exporter": "python",
   "pygments_lexer": "ipython3",
   "version": "3.13.2"
  }
 },
 "nbformat": 4,
 "nbformat_minor": 5
}
