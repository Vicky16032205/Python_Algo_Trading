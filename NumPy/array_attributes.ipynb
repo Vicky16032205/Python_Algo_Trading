{
 "cells": [
  {
   "cell_type": "code",
   "execution_count": 1,
   "id": "aae97b70",
   "metadata": {},
   "outputs": [],
   "source": [
    "import numpy as np"
   ]
  },
  {
   "cell_type": "code",
   "execution_count": 21,
   "id": "c7fb0c6c",
   "metadata": {},
   "outputs": [],
   "source": [
    "a1 = np.array([1,2,3])\n",
    "a2 = np.array([[1,2,3], [1,3,4]], dtype=np.int32)\n",
    "a3 = np.array([[[1,2,3], [1,3,4]],[[1,2,3], [1,3,4]]])"
   ]
  },
  {
   "cell_type": "markdown",
   "id": "41564296",
   "metadata": {},
   "source": [
    "## N-Dimensionality check using ndim method"
   ]
  },
  {
   "cell_type": "code",
   "execution_count": 11,
   "id": "64ee897a",
   "metadata": {},
   "outputs": [
    {
     "data": {
      "text/plain": [
       "1"
      ]
     },
     "execution_count": 11,
     "metadata": {},
     "output_type": "execute_result"
    }
   ],
   "source": [
    "a1.ndim"
   ]
  },
  {
   "cell_type": "code",
   "execution_count": 12,
   "id": "048fb268",
   "metadata": {},
   "outputs": [
    {
     "data": {
      "text/plain": [
       "2"
      ]
     },
     "execution_count": 12,
     "metadata": {},
     "output_type": "execute_result"
    }
   ],
   "source": [
    "a2.ndim"
   ]
  },
  {
   "cell_type": "code",
   "execution_count": 13,
   "id": "f4720826",
   "metadata": {},
   "outputs": [
    {
     "data": {
      "text/plain": [
       "3"
      ]
     },
     "execution_count": 13,
     "metadata": {},
     "output_type": "execute_result"
    }
   ],
   "source": [
    "a3.ndim"
   ]
  },
  {
   "cell_type": "markdown",
   "id": "5d8e8c78",
   "metadata": {},
   "source": [
    "## Shape method Finding the total elements and shape of the array"
   ]
  },
  {
   "cell_type": "code",
   "execution_count": 14,
   "id": "fc57ecf0",
   "metadata": {},
   "outputs": [
    {
     "data": {
      "text/plain": [
       "(3,)"
      ]
     },
     "execution_count": 14,
     "metadata": {},
     "output_type": "execute_result"
    }
   ],
   "source": [
    "a1.shape"
   ]
  },
  {
   "cell_type": "code",
   "execution_count": 15,
   "id": "f696d68b",
   "metadata": {},
   "outputs": [
    {
     "data": {
      "text/plain": [
       "(2, 3)"
      ]
     },
     "execution_count": 15,
     "metadata": {},
     "output_type": "execute_result"
    }
   ],
   "source": [
    "a2.shape"
   ]
  },
  {
   "cell_type": "code",
   "execution_count": 16,
   "id": "3b3df791",
   "metadata": {},
   "outputs": [
    {
     "data": {
      "text/plain": [
       "(2, 2, 3)"
      ]
     },
     "execution_count": 16,
     "metadata": {},
     "output_type": "execute_result"
    }
   ],
   "source": [
    "a3.shape"
   ]
  },
  {
   "cell_type": "markdown",
   "id": "1f6787e2",
   "metadata": {},
   "source": [
    "## Size method in NumPy"
   ]
  },
  {
   "cell_type": "code",
   "execution_count": 17,
   "id": "4d8d06b8",
   "metadata": {},
   "outputs": [
    {
     "data": {
      "text/plain": [
       "3"
      ]
     },
     "execution_count": 17,
     "metadata": {},
     "output_type": "execute_result"
    }
   ],
   "source": [
    "a1.size"
   ]
  },
  {
   "cell_type": "code",
   "execution_count": 18,
   "id": "538581cc",
   "metadata": {},
   "outputs": [
    {
     "data": {
      "text/plain": [
       "6"
      ]
     },
     "execution_count": 18,
     "metadata": {},
     "output_type": "execute_result"
    }
   ],
   "source": [
    "a2.size"
   ]
  },
  {
   "cell_type": "code",
   "execution_count": 19,
   "id": "1162e20b",
   "metadata": {},
   "outputs": [
    {
     "data": {
      "text/plain": [
       "12"
      ]
     },
     "execution_count": 19,
     "metadata": {},
     "output_type": "execute_result"
    }
   ],
   "source": [
    "a3.size"
   ]
  },
  {
   "cell_type": "markdown",
   "id": "300d6954",
   "metadata": {},
   "source": [
    "## Checking Size of every item present in array"
   ]
  },
  {
   "cell_type": "code",
   "execution_count": 20,
   "id": "0ce02130",
   "metadata": {},
   "outputs": [
    {
     "data": {
      "text/plain": [
       "8"
      ]
     },
     "execution_count": 20,
     "metadata": {},
     "output_type": "execute_result"
    }
   ],
   "source": [
    "a1.itemsize"
   ]
  },
  {
   "cell_type": "markdown",
   "id": "0a760f45",
   "metadata": {},
   "source": [
    "8 is coming because we have numbers stored in form of float values. To optimize space we can use int32 values as it only takes 4 bits of space."
   ]
  },
  {
   "cell_type": "code",
   "execution_count": 22,
   "id": "bae19763",
   "metadata": {},
   "outputs": [
    {
     "data": {
      "text/plain": [
       "4"
      ]
     },
     "execution_count": 22,
     "metadata": {},
     "output_type": "execute_result"
    }
   ],
   "source": [
    "a2.itemsize"
   ]
  },
  {
   "cell_type": "markdown",
   "id": "fa581ee2",
   "metadata": {},
   "source": [
    "so after changing float value to int32 value, we approximately saved half the size of original."
   ]
  },
  {
   "cell_type": "code",
   "execution_count": 23,
   "id": "c7f58012",
   "metadata": {},
   "outputs": [
    {
     "data": {
      "text/plain": [
       "8"
      ]
     },
     "execution_count": 23,
     "metadata": {},
     "output_type": "execute_result"
    }
   ],
   "source": [
    "a3.itemsize"
   ]
  },
  {
   "cell_type": "markdown",
   "id": "c981a28d",
   "metadata": {},
   "source": [
    "## astype in NumPy: Changing Datatype"
   ]
  },
  {
   "cell_type": "code",
   "execution_count": 24,
   "id": "a0eb6f05",
   "metadata": {},
   "outputs": [
    {
     "data": {
      "text/plain": [
       "array([[[1, 2, 3],\n",
       "        [1, 3, 4]],\n",
       "\n",
       "       [[1, 2, 3],\n",
       "        [1, 3, 4]]])"
      ]
     },
     "execution_count": 24,
     "metadata": {},
     "output_type": "execute_result"
    }
   ],
   "source": [
    "a3.astype(np.int64)"
   ]
  },
  {
   "cell_type": "markdown",
   "id": "ded1d5e4",
   "metadata": {},
   "source": [
    "astype changes datatype of arrays on runtime when we use astype"
   ]
  }
 ],
 "metadata": {
  "kernelspec": {
   "display_name": "Python 3",
   "language": "python",
   "name": "python3"
  },
  "language_info": {
   "codemirror_mode": {
    "name": "ipython",
    "version": 3
   },
   "file_extension": ".py",
   "mimetype": "text/x-python",
   "name": "python",
   "nbconvert_exporter": "python",
   "pygments_lexer": "ipython3",
   "version": "3.13.2"
  }
 },
 "nbformat": 4,
 "nbformat_minor": 5
}
