{
 "cells": [
  {
   "cell_type": "code",
   "execution_count": 2,
   "id": "978390e7",
   "metadata": {},
   "outputs": [],
   "source": [
    "import numpy as np"
   ]
  },
  {
   "cell_type": "code",
   "execution_count": null,
   "id": "0049afc5",
   "metadata": {},
   "outputs": [],
   "source": [
    "ohlc_data_day1 = np.array([\n",
    "    [100.0, 101.5, 99.5, 101.0],\n",
    "    [101.0, 102.0, 100.5, 101.8],\n",
    "    [101.8, 103.0, 101.0, 102.5]\n",
    "])\n",
    "\n",
    "ohlc_data_day2 = np.array([\n",
    "    [200.0, 201.5, 199.5, 201.0],\n",
    "    [201.0, 202.0, 200.5, 201.8],\n",
    "    [201.8, 203.0, 201.0, 202.5]\n",
    "])"
   ]
  },
  {
   "cell_type": "markdown",
   "id": "82b093fd",
   "metadata": {},
   "source": [
    "## Min/Max/Sum/Product in NumPy arrays"
   ]
  },
  {
   "cell_type": "code",
   "execution_count": 6,
   "id": "6a507ed8",
   "metadata": {},
   "outputs": [
    {
     "data": {
      "text/plain": [
       "np.float64(99.5)"
      ]
     },
     "execution_count": 6,
     "metadata": {},
     "output_type": "execute_result"
    }
   ],
   "source": [
    "np.min(ohlc_data_day1)"
   ]
  },
  {
   "cell_type": "code",
   "execution_count": 7,
   "id": "78460717",
   "metadata": {},
   "outputs": [
    {
     "data": {
      "text/plain": [
       "np.float64(203.0)"
      ]
     },
     "execution_count": 7,
     "metadata": {},
     "output_type": "execute_result"
    }
   ],
   "source": [
    "np.max(ohlc_data_day2)"
   ]
  },
  {
   "cell_type": "code",
   "execution_count": 8,
   "id": "c40a8a49",
   "metadata": {},
   "outputs": [
    {
     "data": {
      "text/plain": [
       "np.float64(1215.6)"
      ]
     },
     "execution_count": 8,
     "metadata": {},
     "output_type": "execute_result"
    }
   ],
   "source": [
    "np.sum(ohlc_data_day1)"
   ]
  },
  {
   "cell_type": "code",
   "execution_count": 14,
   "id": "b276516d",
   "metadata": {},
   "outputs": [
    {
     "data": {
      "text/plain": [
       "np.float64(4.4265487763544875e+27)"
      ]
     },
     "execution_count": 14,
     "metadata": {},
     "output_type": "execute_result"
    }
   ],
   "source": [
    "np.prod(ohlc_data_day2)"
   ]
  },
  {
   "cell_type": "markdown",
   "id": "b94eb9b5",
   "metadata": {},
   "source": [
    "Scalar Multiplication"
   ]
  },
  {
   "cell_type": "code",
   "execution_count": 15,
   "id": "b238bbcc",
   "metadata": {},
   "outputs": [
    {
     "data": {
      "text/plain": [
       "array([[200. , 203. , 199. , 202. ],\n",
       "       [202. , 204. , 201. , 203.6],\n",
       "       [203.6, 206. , 202. , 205. ]])"
      ]
     },
     "execution_count": 15,
     "metadata": {},
     "output_type": "execute_result"
    }
   ],
   "source": [
    "ohlc_data_day1 * 2"
   ]
  },
  {
   "cell_type": "markdown",
   "id": "175e3da2",
   "metadata": {},
   "source": [
    "Vector Multiplication"
   ]
  },
  {
   "cell_type": "code",
   "execution_count": 16,
   "id": "cfeb5166",
   "metadata": {},
   "outputs": [
    {
     "data": {
      "text/plain": [
       "array([[20000.  , 20452.25, 19850.25, 20301.  ],\n",
       "       [20301.  , 20604.  , 20150.25, 20543.24],\n",
       "       [20543.24, 20909.  , 20301.  , 20756.25]])"
      ]
     },
     "execution_count": 16,
     "metadata": {},
     "output_type": "execute_result"
    }
   ],
   "source": [
    "ohlc_data_day1 * ohlc_data_day2"
   ]
  },
  {
   "cell_type": "markdown",
   "id": "25a04188",
   "metadata": {},
   "source": [
    "## Mean/ Median/ Standard Deviation/ Variance"
   ]
  },
  {
   "cell_type": "code",
   "execution_count": 21,
   "id": "6d0fd551",
   "metadata": {},
   "outputs": [
    {
     "name": "stdout",
     "output_type": "stream",
     "text": [
      "101.3\n",
      "201.29999999999998\n"
     ]
    }
   ],
   "source": [
    "print(np.mean(ohlc_data_day1))\n",
    "print(np.mean(ohlc_data_day2))"
   ]
  },
  {
   "cell_type": "code",
   "execution_count": 22,
   "id": "080684fe",
   "metadata": {},
   "outputs": [
    {
     "name": "stdout",
     "output_type": "stream",
     "text": [
      "101.25\n",
      "201.25\n"
     ]
    }
   ],
   "source": [
    "print(np.median(ohlc_data_day1))\n",
    "print(np.median(ohlc_data_day2))"
   ]
  },
  {
   "cell_type": "code",
   "execution_count": 23,
   "id": "a30c727e",
   "metadata": {},
   "outputs": [
    {
     "name": "stdout",
     "output_type": "stream",
     "text": [
      "0.9660917830792956\n",
      "0.9660917830792968\n"
     ]
    }
   ],
   "source": [
    "print(np.std(ohlc_data_day1))\n",
    "print(np.std(ohlc_data_day2))"
   ]
  },
  {
   "cell_type": "code",
   "execution_count": 24,
   "id": "79c2ad17",
   "metadata": {},
   "outputs": [
    {
     "name": "stdout",
     "output_type": "stream",
     "text": [
      "0.9333333333333327\n",
      "0.933333333333335\n"
     ]
    }
   ],
   "source": [
    "print(np.var(ohlc_data_day1))\n",
    "print(np.var(ohlc_data_day2))"
   ]
  },
  {
   "cell_type": "markdown",
   "id": "94bbcac8",
   "metadata": {},
   "source": [
    "## Trignometric Functions in NumPy"
   ]
  },
  {
   "cell_type": "code",
   "execution_count": 25,
   "id": "ea14b4f7",
   "metadata": {},
   "outputs": [
    {
     "data": {
      "text/plain": [
       "array([[-0.50636564,  0.82433986, -0.85779535,  0.45202579],\n",
       "       [ 0.45202579,  0.99482679, -0.03095997,  0.95481453],\n",
       "       [ 0.95481453,  0.62298863,  0.45202579,  0.92174542]])"
      ]
     },
     "execution_count": 25,
     "metadata": {},
     "output_type": "execute_result"
    }
   ],
   "source": [
    "np.sin(ohlc_data_day1)"
   ]
  },
  {
   "cell_type": "markdown",
   "id": "4402664f",
   "metadata": {},
   "source": [
    "## Dot Product in NumPy Arrays"
   ]
  },
  {
   "cell_type": "code",
   "execution_count": 26,
   "id": "9cdb75ab",
   "metadata": {},
   "outputs": [],
   "source": [
    "mat1 = np.array([\n",
    "    [100.0, 101.5, 99.5, 101.0],\n",
    "    [101.0, 102.0, 100.5, 101.8],\n",
    "    [101.8, 103.0, 101.0, 102.5]\n",
    "])\n",
    "\n",
    "mat2 = np.array([\n",
    "    [100.0, 101.5, 99.5, 101.0],\n",
    "    [101.0, 102.0, 100.5, 101.8],\n",
    "    [101.8, 103.0, 101.0, 102.5],\n",
    "    [101.8, 103.0, 101.0, 102.5]\n",
    "])"
   ]
  },
  {
   "cell_type": "code",
   "execution_count": 27,
   "id": "67e434ab",
   "metadata": {},
   "outputs": [
    {
     "data": {
      "text/plain": [
       "array([[40662.4 , 41154.5 , 40401.25, 40983.95],\n",
       "       [40996.14, 41492.4 , 40732.8 , 41320.35],\n",
       "       [41299.3 , 41799.2 , 41034.1 , 41625.95]])"
      ]
     },
     "execution_count": 27,
     "metadata": {},
     "output_type": "execute_result"
    }
   ],
   "source": [
    "np.dot(mat1, mat2)"
   ]
  },
  {
   "cell_type": "markdown",
   "id": "db1ebe77",
   "metadata": {},
   "source": [
    "For dot product, we need to make sure that column of first matrix array should match with the row of second matrix \n",
    "In above case mat1 has 4 columns,  and second matrix has 4 rows, so dot product is possible and size would be 3*4."
   ]
  },
  {
   "cell_type": "markdown",
   "id": "1a1fb948",
   "metadata": {},
   "source": [
    "## Log and Exponential Values in NumPy"
   ]
  },
  {
   "cell_type": "code",
   "execution_count": 28,
   "id": "06535192",
   "metadata": {},
   "outputs": [
    {
     "data": {
      "text/plain": [
       "array([[2.68811714e+43, 1.20473052e+44, 1.63042546e+43, 7.30705998e+43],\n",
       "       [7.30705998e+43, 1.98626484e+44, 4.43195591e+43, 1.62621611e+44],\n",
       "       [1.62621611e+44, 5.39922761e+44, 7.30705998e+43, 3.27479708e+44]])"
      ]
     },
     "execution_count": 28,
     "metadata": {},
     "output_type": "execute_result"
    }
   ],
   "source": [
    "np.exp(ohlc_data_day1)"
   ]
  },
  {
   "cell_type": "code",
   "execution_count": 29,
   "id": "599408e2",
   "metadata": {},
   "outputs": [
    {
     "data": {
      "text/plain": [
       "array([[5.29831737, 5.30578938, 5.29581424, 5.30330491],\n",
       "       [5.30330491, 5.3082677 , 5.30081425, 5.30727711],\n",
       "       [5.30727711, 5.31320598, 5.30330491, 5.31073989]])"
      ]
     },
     "execution_count": 29,
     "metadata": {},
     "output_type": "execute_result"
    }
   ],
   "source": [
    "np.log(ohlc_data_day2)"
   ]
  },
  {
   "cell_type": "markdown",
   "id": "7473c00a",
   "metadata": {},
   "source": [
    "## Round, Floor and Ceil in NumPy"
   ]
  },
  {
   "cell_type": "code",
   "execution_count": 30,
   "id": "86bdf78c",
   "metadata": {},
   "outputs": [
    {
     "data": {
      "text/plain": [
       "array([[100., 102., 100., 101.],\n",
       "       [101., 102., 100., 102.],\n",
       "       [102., 103., 101., 102.]])"
      ]
     },
     "execution_count": 30,
     "metadata": {},
     "output_type": "execute_result"
    }
   ],
   "source": [
    "np.round(ohlc_data_day1)"
   ]
  },
  {
   "cell_type": "code",
   "execution_count": 31,
   "id": "6ea60f58",
   "metadata": {},
   "outputs": [
    {
     "data": {
      "text/plain": [
       "array([[200., 201., 199., 201.],\n",
       "       [201., 202., 200., 201.],\n",
       "       [201., 203., 201., 202.]])"
      ]
     },
     "execution_count": 31,
     "metadata": {},
     "output_type": "execute_result"
    }
   ],
   "source": [
    "np.floor(ohlc_data_day2)"
   ]
  },
  {
   "cell_type": "code",
   "execution_count": 32,
   "id": "139937e8",
   "metadata": {},
   "outputs": [
    {
     "data": {
      "text/plain": [
       "array([[100., 102., 100., 101.],\n",
       "       [101., 102., 101., 102.],\n",
       "       [102., 103., 101., 103.]])"
      ]
     },
     "execution_count": 32,
     "metadata": {},
     "output_type": "execute_result"
    }
   ],
   "source": [
    "np.ceil(ohlc_data_day1)"
   ]
  },
  {
   "cell_type": "markdown",
   "id": "d42cea9d",
   "metadata": {},
   "source": [
    "## SLICING IN 3D- NumPy Array"
   ]
  },
  {
   "cell_type": "code",
   "execution_count": 13,
   "id": "c8f67d76",
   "metadata": {},
   "outputs": [
    {
     "data": {
      "text/plain": [
       "array([[[ 1,  2,  3,  4],\n",
       "        [ 5,  6,  7,  8],\n",
       "        [ 9, 10, 11, 12]],\n",
       "\n",
       "       [[13, 14, 15, 16],\n",
       "        [17, 18, 19, 20],\n",
       "        [21, 22, 23, 24]]])"
      ]
     },
     "execution_count": 13,
     "metadata": {},
     "output_type": "execute_result"
    }
   ],
   "source": [
    "ThreeDArray = np.arange(1,25).reshape(2,3,4)\n",
    "ThreeDArray"
   ]
  },
  {
   "cell_type": "code",
   "execution_count": 7,
   "id": "d9eb302d",
   "metadata": {},
   "outputs": [
    {
     "data": {
      "text/plain": [
       "array([[15, 16],\n",
       "       [19, 20],\n",
       "       [23, 24]])"
      ]
     },
     "execution_count": 7,
     "metadata": {},
     "output_type": "execute_result"
    }
   ],
   "source": [
    "ThreeDArray[1,:,2:]"
   ]
  },
  {
   "cell_type": "markdown",
   "id": "96637b73",
   "metadata": {},
   "source": [
    "## Iterating values in Matrix"
   ]
  },
  {
   "cell_type": "code",
   "execution_count": 10,
   "id": "a3803b99",
   "metadata": {},
   "outputs": [
    {
     "name": "stdout",
     "output_type": "stream",
     "text": [
      "1,2,3,4,5,6,7,8,9,10,11,12,13,14,15,16,17,18,19,20,21,22,23,24,"
     ]
    }
   ],
   "source": [
    "for i in np.nditer(ThreeDArray):\n",
    "    print(i, end=\",\")"
   ]
  },
  {
   "cell_type": "code",
   "execution_count": 11,
   "id": "5a2d780a",
   "metadata": {},
   "outputs": [
    {
     "name": "stdout",
     "output_type": "stream",
     "text": [
      "1,2,3,4,5,6,7,8,9,10,11,12,13,14,15,16,17,18,19,20,21,22,23,24,"
     ]
    }
   ],
   "source": [
    "for i in np.ravel(ThreeDArray):\n",
    "    print(i, end=\",\")"
   ]
  },
  {
   "cell_type": "markdown",
   "id": "7409547d",
   "metadata": {},
   "source": [
    "##  Transpose"
   ]
  },
  {
   "cell_type": "code",
   "execution_count": 14,
   "id": "5a94658e",
   "metadata": {},
   "outputs": [
    {
     "data": {
      "text/plain": [
       "array([[[ 1, 13],\n",
       "        [ 5, 17],\n",
       "        [ 9, 21]],\n",
       "\n",
       "       [[ 2, 14],\n",
       "        [ 6, 18],\n",
       "        [10, 22]],\n",
       "\n",
       "       [[ 3, 15],\n",
       "        [ 7, 19],\n",
       "        [11, 23]],\n",
       "\n",
       "       [[ 4, 16],\n",
       "        [ 8, 20],\n",
       "        [12, 24]]])"
      ]
     },
     "execution_count": 14,
     "metadata": {},
     "output_type": "execute_result"
    }
   ],
   "source": [
    "np.transpose(ThreeDArray)"
   ]
  },
  {
   "cell_type": "code",
   "execution_count": 15,
   "id": "5a746d5c",
   "metadata": {},
   "outputs": [
    {
     "data": {
      "text/plain": [
       "array([[[ 1, 13],\n",
       "        [ 5, 17],\n",
       "        [ 9, 21]],\n",
       "\n",
       "       [[ 2, 14],\n",
       "        [ 6, 18],\n",
       "        [10, 22]],\n",
       "\n",
       "       [[ 3, 15],\n",
       "        [ 7, 19],\n",
       "        [11, 23]],\n",
       "\n",
       "       [[ 4, 16],\n",
       "        [ 8, 20],\n",
       "        [12, 24]]])"
      ]
     },
     "execution_count": 15,
     "metadata": {},
     "output_type": "execute_result"
    }
   ],
   "source": [
    "ThreeDArray.T"
   ]
  },
  {
   "cell_type": "markdown",
   "id": "265ea367",
   "metadata": {},
   "source": [
    "## Horizontal and Vertical Stacking in NumPy array"
   ]
  },
  {
   "cell_type": "markdown",
   "id": "fc2049f6",
   "metadata": {},
   "source": [
    "### Horizontal Scaling"
   ]
  },
  {
   "cell_type": "code",
   "execution_count": 19,
   "id": "63dde430",
   "metadata": {},
   "outputs": [],
   "source": [
    "ohlc_data_day1 = np.array([\n",
    "    [100.0, 101.5, 99.5, 101.0],\n",
    "    [101.0, 102.0, 100.5, 101.8],\n",
    "    [101.8, 103.0, 101.0, 102.5]\n",
    "])\n",
    "\n",
    "ohlc_data_day2 = np.array([\n",
    "    [200.0, 201.5, 199.5, 201.0],\n",
    "    [201.0, 202.0, 200.5, 201.8],\n",
    "    [201.8, 203.0, 201.0, 202.5]\n",
    "])"
   ]
  },
  {
   "cell_type": "code",
   "execution_count": 20,
   "id": "602f09af",
   "metadata": {},
   "outputs": [
    {
     "data": {
      "text/plain": [
       "array([[100. , 101.5,  99.5, 101. , 200. , 201.5, 199.5, 201. ],\n",
       "       [101. , 102. , 100.5, 101.8, 201. , 202. , 200.5, 201.8],\n",
       "       [101.8, 103. , 101. , 102.5, 201.8, 203. , 201. , 202.5]])"
      ]
     },
     "execution_count": 20,
     "metadata": {},
     "output_type": "execute_result"
    }
   ],
   "source": [
    "np.hstack((ohlc_data_day1, ohlc_data_day2))"
   ]
  },
  {
   "cell_type": "markdown",
   "id": "7768d1c1",
   "metadata": {},
   "source": [
    "### Vertical Scaling"
   ]
  },
  {
   "cell_type": "code",
   "execution_count": 21,
   "id": "d1003639",
   "metadata": {},
   "outputs": [
    {
     "data": {
      "text/plain": [
       "array([[100. , 101.5,  99.5, 101. ],\n",
       "       [101. , 102. , 100.5, 101.8],\n",
       "       [101.8, 103. , 101. , 102.5],\n",
       "       [200. , 201.5, 199.5, 201. ],\n",
       "       [201. , 202. , 200.5, 201.8],\n",
       "       [201.8, 203. , 201. , 202.5]])"
      ]
     },
     "execution_count": 21,
     "metadata": {},
     "output_type": "execute_result"
    }
   ],
   "source": [
    "np.vstack((ohlc_data_day1, ohlc_data_day2))"
   ]
  },
  {
   "cell_type": "markdown",
   "id": "a469f6c8",
   "metadata": {},
   "source": [
    "## Splitting"
   ]
  },
  {
   "cell_type": "markdown",
   "id": "c34b896c",
   "metadata": {},
   "source": [
    "### Horizontal Splitting"
   ]
  },
  {
   "cell_type": "code",
   "execution_count": 22,
   "id": "4ad7d57f",
   "metadata": {},
   "outputs": [],
   "source": [
    "horizon = np.hstack((ohlc_data_day1, ohlc_data_day2))"
   ]
  },
  {
   "cell_type": "code",
   "execution_count": 23,
   "id": "c981a3ce",
   "metadata": {},
   "outputs": [
    {
     "data": {
      "text/plain": [
       "[array([[100. , 101.5,  99.5, 101. ],\n",
       "        [101. , 102. , 100.5, 101.8],\n",
       "        [101.8, 103. , 101. , 102.5]]),\n",
       " array([[200. , 201.5, 199.5, 201. ],\n",
       "        [201. , 202. , 200.5, 201.8],\n",
       "        [201.8, 203. , 201. , 202.5]])]"
      ]
     },
     "execution_count": 23,
     "metadata": {},
     "output_type": "execute_result"
    }
   ],
   "source": [
    "np.hsplit(horizon, 2)"
   ]
  },
  {
   "cell_type": "markdown",
   "id": "19c894f6",
   "metadata": {},
   "source": [
    "### Vertical Splitting"
   ]
  },
  {
   "cell_type": "code",
   "execution_count": 24,
   "id": "36c7d5cd",
   "metadata": {},
   "outputs": [],
   "source": [
    "vertical = np.vstack((ohlc_data_day1, ohlc_data_day2))"
   ]
  },
  {
   "cell_type": "code",
   "execution_count": 25,
   "id": "c3e3551b",
   "metadata": {},
   "outputs": [
    {
     "data": {
      "text/plain": [
       "[array([[100. , 101.5,  99.5, 101. ],\n",
       "        [101. , 102. , 100.5, 101.8],\n",
       "        [101.8, 103. , 101. , 102.5]]),\n",
       " array([[200. , 201.5, 199.5, 201. ],\n",
       "        [201. , 202. , 200.5, 201.8],\n",
       "        [201.8, 203. , 201. , 202.5]])]"
      ]
     },
     "execution_count": 25,
     "metadata": {},
     "output_type": "execute_result"
    }
   ],
   "source": [
    "np.vsplit(vertical, 2)"
   ]
  }
 ],
 "metadata": {
  "kernelspec": {
   "display_name": "Python 3",
   "language": "python",
   "name": "python3"
  },
  "language_info": {
   "codemirror_mode": {
    "name": "ipython",
    "version": 3
   },
   "file_extension": ".py",
   "mimetype": "text/x-python",
   "name": "python",
   "nbconvert_exporter": "python",
   "pygments_lexer": "ipython3",
   "version": "3.13.2"
  }
 },
 "nbformat": 4,
 "nbformat_minor": 5
}
