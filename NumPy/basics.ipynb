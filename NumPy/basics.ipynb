{
 "cells": [
  {
   "cell_type": "code",
   "execution_count": 55,
   "id": "74ab7404",
   "metadata": {},
   "outputs": [],
   "source": [
    "import numpy as np"
   ]
  },
  {
   "cell_type": "code",
   "execution_count": 56,
   "id": "93186b82",
   "metadata": {},
   "outputs": [
    {
     "data": {
      "text/plain": [
       "array([1, 2, 3, 4, 5, 6, 7, 8, 9])"
      ]
     },
     "execution_count": 56,
     "metadata": {},
     "output_type": "execute_result"
    }
   ],
   "source": [
    "np.array([1,2,3,4,5,6,7,8,9])"
   ]
  },
  {
   "cell_type": "code",
   "execution_count": 57,
   "id": "faa8a989",
   "metadata": {},
   "outputs": [
    {
     "name": "stdout",
     "output_type": "stream",
     "text": [
      "['1' '2' '3' '4' '5' '6' '8' '9' '7' '10' '11' '12']\n"
     ]
    }
   ],
   "source": [
    "vari = np.array([1,2,3,4,5,6,8,9,7,10,11,12], dtype=str)\n",
    "print(vari)"
   ]
  },
  {
   "cell_type": "code",
   "execution_count": 58,
   "id": "8efd949d",
   "metadata": {},
   "outputs": [
    {
     "name": "stdout",
     "output_type": "stream",
     "text": [
      "<class 'numpy.ndarray'>\n"
     ]
    }
   ],
   "source": [
    "print(type(vari))"
   ]
  },
  {
   "cell_type": "code",
   "execution_count": 59,
   "id": "3d0909b0",
   "metadata": {},
   "outputs": [
    {
     "data": {
      "text/plain": [
       "array([[['1', '2', '3'],\n",
       "        ['4', '5', '6']],\n",
       "\n",
       "       [['8', '9', '7'],\n",
       "        ['10', '11', '12']]], dtype='<U2')"
      ]
     },
     "execution_count": 59,
     "metadata": {},
     "output_type": "execute_result"
    }
   ],
   "source": [
    "vari.reshape(2,2,3)"
   ]
  },
  {
   "cell_type": "markdown",
   "id": "e6ca8f5c",
   "metadata": {},
   "source": [
    "## Arange method "
   ]
  },
  {
   "cell_type": "code",
   "execution_count": 60,
   "id": "d2d3b245",
   "metadata": {},
   "outputs": [
    {
     "data": {
      "text/plain": [
       "array([ 0,  1,  2,  3,  4,  5,  6,  7,  8,  9, 10, 11])"
      ]
     },
     "execution_count": 60,
     "metadata": {},
     "output_type": "execute_result"
    }
   ],
   "source": [
    "np.arange(0,12)"
   ]
  },
  {
   "cell_type": "code",
   "execution_count": 61,
   "id": "ab8497f7",
   "metadata": {},
   "outputs": [
    {
     "name": "stdout",
     "output_type": "stream",
     "text": [
      "<class 'numpy.ndarray'>\n"
     ]
    }
   ],
   "source": [
    "print(type(np.arange(0,12)))"
   ]
  },
  {
   "cell_type": "code",
   "execution_count": 62,
   "id": "8c371ce0",
   "metadata": {},
   "outputs": [
    {
     "data": {
      "text/plain": [
       "array([[ 0,  1,  2,  3,  4,  5],\n",
       "       [ 6,  7,  8,  9, 10, 11]])"
      ]
     },
     "execution_count": 62,
     "metadata": {},
     "output_type": "execute_result"
    }
   ],
   "source": [
    "np.arange(0,12).reshape(2,6)"
   ]
  },
  {
   "cell_type": "markdown",
   "id": "bae11f15",
   "metadata": {},
   "source": [
    "## np.ones and np.zeros method "
   ]
  },
  {
   "cell_type": "code",
   "execution_count": 63,
   "id": "26a9fe3e",
   "metadata": {},
   "outputs": [
    {
     "data": {
      "text/plain": [
       "array([[[1, 1, 1],\n",
       "        [1, 1, 1]],\n",
       "\n",
       "       [[1, 1, 1],\n",
       "        [1, 1, 1]]], dtype=int32)"
      ]
     },
     "execution_count": 63,
     "metadata": {},
     "output_type": "execute_result"
    }
   ],
   "source": [
    "var = np.ones((2,2,3),np.int32)\n",
    "var"
   ]
  },
  {
   "cell_type": "code",
   "execution_count": 64,
   "id": "c30249ce",
   "metadata": {},
   "outputs": [
    {
     "name": "stdout",
     "output_type": "stream",
     "text": [
      "<class 'numpy.ndarray'>\n"
     ]
    }
   ],
   "source": [
    "print(type(var))"
   ]
  },
  {
   "cell_type": "code",
   "execution_count": 65,
   "id": "1063c72b",
   "metadata": {},
   "outputs": [
    {
     "data": {
      "text/plain": [
       "array([[1., 1., 1., 1.],\n",
       "       [1., 1., 1., 1.],\n",
       "       [1., 1., 1., 1.],\n",
       "       [1., 1., 1., 1.],\n",
       "       [1., 1., 1., 1.]])"
      ]
     },
     "execution_count": 65,
     "metadata": {},
     "output_type": "execute_result"
    }
   ],
   "source": [
    "np.ones((5,4))"
   ]
  },
  {
   "cell_type": "code",
   "execution_count": 66,
   "id": "49429d3c",
   "metadata": {},
   "outputs": [
    {
     "data": {
      "text/plain": [
       "array([[0., 0., 0.],\n",
       "       [0., 0., 0.],\n",
       "       [0., 0., 0.],\n",
       "       [0., 0., 0.]])"
      ]
     },
     "execution_count": 66,
     "metadata": {},
     "output_type": "execute_result"
    }
   ],
   "source": [
    "np.zeros((4,3))"
   ]
  },
  {
   "cell_type": "markdown",
   "id": "d8596256",
   "metadata": {},
   "source": [
    "## Random Module in NumPY"
   ]
  },
  {
   "cell_type": "code",
   "execution_count": 67,
   "id": "a7d1eadd",
   "metadata": {},
   "outputs": [
    {
     "data": {
      "text/plain": [
       "array([73.2174178 , 39.71446248, 19.19352139, 25.70935388, 58.63737837])"
      ]
     },
     "execution_count": 67,
     "metadata": {},
     "output_type": "execute_result"
    }
   ],
   "source": [
    "np.random.random(5)*100"
   ]
  },
  {
   "cell_type": "code",
   "execution_count": 68,
   "id": "b5405071",
   "metadata": {},
   "outputs": [
    {
     "data": {
      "text/plain": [
       "array([[27.32436051, 70.61767978, 32.65812626, 12.29329939,  7.15583618,\n",
       "        69.02141969],\n",
       "       [93.68820901,  2.88373003, 61.21343081,  1.53286836, 99.28554329,\n",
       "        87.44780985]])"
      ]
     },
     "execution_count": 68,
     "metadata": {},
     "output_type": "execute_result"
    }
   ],
   "source": [
    "np.random.random((2,6))*100"
   ]
  },
  {
   "cell_type": "markdown",
   "id": "d4e72dc2",
   "metadata": {},
   "source": [
    "## Linspace method "
   ]
  },
  {
   "cell_type": "code",
   "execution_count": 69,
   "id": "25385159",
   "metadata": {},
   "outputs": [
    {
     "data": {
      "text/plain": [
       "array([1.  , 1.25, 1.5 , 1.75, 2.  ])"
      ]
     },
     "execution_count": 69,
     "metadata": {},
     "output_type": "execute_result"
    }
   ],
   "source": [
    "np.linspace(1,2,5)"
   ]
  },
  {
   "cell_type": "code",
   "execution_count": 70,
   "id": "cf73fccf",
   "metadata": {},
   "outputs": [
    {
     "data": {
      "text/plain": [
       "array([ 1.   ,  2.125,  3.25 ,  4.375,  5.5  ,  6.625,  7.75 ,  8.875,\n",
       "       10.   ])"
      ]
     },
     "execution_count": 70,
     "metadata": {},
     "output_type": "execute_result"
    }
   ],
   "source": [
    "np.linspace(1,10,9)"
   ]
  },
  {
   "cell_type": "markdown",
   "id": "54a64361",
   "metadata": {},
   "source": [
    "Linspace method in numpy is like arithmetic progression(AP) because it provides you numbers having equal difference between each other.\n",
    "It takes two to three arguments in which first one denotes starting point, second one denotes ending point and third one denoted total numbers of points we needed. this is specified in above example clearly."
   ]
  },
  {
   "cell_type": "markdown",
   "id": "a4431546",
   "metadata": {},
   "source": [
    "## Identity Matrices in NumPy"
   ]
  },
  {
   "cell_type": "code",
   "execution_count": 74,
   "id": "7f716d30",
   "metadata": {},
   "outputs": [
    {
     "data": {
      "text/plain": [
       "array([[1, 0],\n",
       "       [0, 1]], dtype=int32)"
      ]
     },
     "execution_count": 74,
     "metadata": {},
     "output_type": "execute_result"
    }
   ],
   "source": [
    "np.identity(2,np.int32)"
   ]
  },
  {
   "cell_type": "code",
   "execution_count": 75,
   "id": "4a1ca12f",
   "metadata": {},
   "outputs": [
    {
     "data": {
      "text/plain": [
       "array([[1., 0., 0., 0., 0., 0.],\n",
       "       [0., 1., 0., 0., 0., 0.],\n",
       "       [0., 0., 1., 0., 0., 0.],\n",
       "       [0., 0., 0., 1., 0., 0.],\n",
       "       [0., 0., 0., 0., 1., 0.],\n",
       "       [0., 0., 0., 0., 0., 1.]])"
      ]
     },
     "execution_count": 75,
     "metadata": {},
     "output_type": "execute_result"
    }
   ],
   "source": [
    "np.identity(6)"
   ]
  }
 ],
 "metadata": {
  "kernelspec": {
   "display_name": "Python 3",
   "language": "python",
   "name": "python3"
  },
  "language_info": {
   "codemirror_mode": {
    "name": "ipython",
    "version": 3
   },
   "file_extension": ".py",
   "mimetype": "text/x-python",
   "name": "python",
   "nbconvert_exporter": "python",
   "pygments_lexer": "ipython3",
   "version": "3.13.2"
  }
 },
 "nbformat": 4,
 "nbformat_minor": 5
}
