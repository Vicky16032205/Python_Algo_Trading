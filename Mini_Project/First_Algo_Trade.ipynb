{
 "cells": [
  {
   "cell_type": "markdown",
   "id": "77d006c5",
   "metadata": {},
   "source": [
    "## This is my First Algorithm Trading mini project that will be made using pure OOPs knowledge and some external python modules such as Yahoo Finance aka yfinance and other battery included in python."
   ]
  },
  {
   "cell_type": "code",
   "execution_count": 1,
   "id": "036c0abc",
   "metadata": {},
   "outputs": [],
   "source": [
    "# !pip install yfinance -q"
   ]
  },
  {
   "cell_type": "markdown",
   "id": "5674976e",
   "metadata": {},
   "source": [
    "-q in above code denotes that the system quitely installs each and every file keeping the terminal clean and good looking."
   ]
  },
  {
   "cell_type": "code",
   "execution_count": 2,
   "id": "5937b8f8",
   "metadata": {},
   "outputs": [],
   "source": [
    "import yfinance as yf\n",
    "from datetime import datetime\n",
    "import time"
   ]
  },
  {
   "cell_type": "code",
   "execution_count": 3,
   "id": "48328149",
   "metadata": {},
   "outputs": [],
   "source": [
    "class TradingStrategy:\n",
    "    def __init__(self, name):\n",
    "        self.__name = name\n",
    "\n",
    "    def generate_signal(self, price_data):\n",
    "        return \"Hold\"\n",
    "    \n",
    "    @property\n",
    "    def name(self):\n",
    "        return self.__name"
   ]
  },
  {
   "cell_type": "markdown",
   "id": "e27782e5",
   "metadata": {},
   "source": [
    "@property decorator is used to make private variables read only outside the class if wanted to access data."
   ]
  },
  {
   "cell_type": "code",
   "execution_count": 4,
   "id": "fb7c9e3f",
   "metadata": {},
   "outputs": [],
   "source": [
    "class SMA_strategy(TradingStrategy):\n",
    "    def __init__(self, short_window, long_window):\n",
    "        super().__init__(\"Simple Moving Average Strategy\")\n",
    "        self.__short_window = short_window\n",
    "        self.__long_window = long_window\n",
    "\n",
    "    def generate_signal(self:object, price_data:list):\n",
    "        if len(price_data) < self.__long_window:\n",
    "            return \"Hold\"\n",
    "        s_avg = sum(price_data[-self.__short_window:]) / self.__short_window\n",
    "        l_avg = sum(price_data[-self.__long_window:]) / self.__long_window\n",
    "\n",
    "        if s_avg > l_avg:\n",
    "            return \"Buy\"\n",
    "        elif s_avg < l_avg:\n",
    "            return \"Sell\"\n",
    "        else:\n",
    "            return \"Hold\"\n",
    "        \n",
    "    @property\n",
    "    def short_window(self):\n",
    "        return self.__short_window\n",
    "    \n",
    "    @property\n",
    "    def long_window(self):\n",
    "        return self.__long_window\n"
   ]
  },
  {
   "cell_type": "code",
   "execution_count": 5,
   "id": "ccd2ef04",
   "metadata": {},
   "outputs": [],
   "source": [
    "class Trade:\n",
    "    def __init__(self, strategy_name, signal, amount):\n",
    "        self.__sname = strategy_name\n",
    "        self.__signal = signal\n",
    "        self.__amount = amount\n",
    "        self.__timeStamp = datetime.now()\n",
    "\n",
    "    def execute(self):\n",
    "        print(f\"Executing trade for {self.__sname} having signal {self.__signal} using {self.__amount} at {self.__timeStamp}\")\n",
    "\n",
    "    @property\n",
    "    def strategy_name(self):\n",
    "        return self.__sname\n",
    "    \n",
    "    @property\n",
    "    def signal(self):\n",
    "        return self.__signal\n",
    "    \n",
    "    @property\n",
    "    def amount(self):\n",
    "        return self.__amount\n",
    "    \n",
    "    @property\n",
    "    def timeStamp(self):\n",
    "        return self.__timeStamp"
   ]
  },
  {
   "cell_type": "code",
   "execution_count": 6,
   "id": "7bbc7d99",
   "metadata": {},
   "outputs": [],
   "source": [
    "class MockTradingAPI:\n",
    "    def __init__(self, balance):\n",
    "        self.__balance = balance\n",
    "\n",
    "    def place_order(self, trade, price):\n",
    "        total = trade.amount * price\n",
    "        if trade.signal == \"Buy\" and self.__balance >= total:\n",
    "            self.__balance -= total\n",
    "            print(f\"Executed {trade.signal} for amount {total}, remaining balance is {self.__balance}\")\n",
    "        \n",
    "        elif trade.signal == \"Sell\":\n",
    "            self.__balance += total\n",
    "            print(f\"Executed {trade.signal} for amount {total}, remaining balance is {self.__balance}\")\n",
    "\n",
    "        else:\n",
    "            print(\"Invalid signal or not sufficient balance in account\")\n",
    "    \n",
    "    @property\n",
    "    def balance(self):\n",
    "        return self.__balance"
   ]
  },
  {
   "cell_type": "code",
   "execution_count": 7,
   "id": "033b1901",
   "metadata": {},
   "outputs": [],
   "source": [
    "class TradingSystem:\n",
    "    def __init__(self, api, strategy, symbol):\n",
    "        self.__api = api\n",
    "        self.__strategy = strategy\n",
    "        self.__symbol = symbol\n",
    "        self.__price_data = []\n",
    "\n",
    "    def fetch_market_data(self):\n",
    "        data = yf.download(self.__symbol, period=\"1d\", interval=\"1m\")\n",
    "        if not data.empty:\n",
    "            price = data[\"Close\"].iloc[-1]\n",
    "            self.__price_data.append(price)\n",
    "            if len(self.__price_data) > self.__strategy.long_window:\n",
    "                self.__price_data.pop(0)\n",
    "            print(f\"Fetched new price data {price}\")\n",
    "        else:\n",
    "            print(f\"data not fetched for {self.__symbol}\")\n",
    "\n",
    "    def run(self):\n",
    "        self.fetch_market_data()\n",
    "        signal = self.__strategy.generate_signal(self.__price_data)\n",
    "        print(f\"Generated Signal {signal}\")\n",
    "\n",
    "        if signal in [\"Buy\", \"Sell\"] and len(self.__price_data) > 0:\n",
    "            trade = Trade(self.__strategy.name, signal, 1)\n",
    "            trade.execute()\n",
    "            self.__api.place_order(trade, self.__price_data[-1])\n",
    "    \n",
    "    @property\n",
    "    def api(self):\n",
    "        return self.__api\n",
    "    \n",
    "    @property\n",
    "    def strategy(self):\n",
    "        return self.__strategy\n",
    "    \n",
    "    @property\n",
    "    def symbol(self):\n",
    "        return self.__symbol\n",
    "    \n",
    "    @property\n",
    "    def price_data(self):\n",
    "        return self.__price_data"
   ]
  },
  {
   "cell_type": "code",
   "execution_count": null,
   "id": "c62b7449",
   "metadata": {},
   "outputs": [],
   "source": [
    "if __name__ == \"__main__\":\n",
    "    symbol = \"AAPL\"\n",
    "\n",
    "    api = MockTradingAPI(10000)\n",
    "    strategy = SMA_strategy(short_window=3, long_window=5)\n",
    "    system = TradingSystem(api, strategy, symbol)\n",
    "\n",
    "    for _ in range(10):\n",
    "        system.run()\n",
    "        print(f\"Remaining balance: {api.balance}\")\n",
    "        time.sleep(60)"
   ]
  }
 ],
 "metadata": {
  "kernelspec": {
   "display_name": "Python 3",
   "language": "python",
   "name": "python3"
  },
  "language_info": {
   "codemirror_mode": {
    "name": "ipython",
    "version": 3
   },
   "file_extension": ".py",
   "mimetype": "text/x-python",
   "name": "python",
   "nbconvert_exporter": "python",
   "pygments_lexer": "ipython3",
   "version": "3.13.2"
  }
 },
 "nbformat": 4,
 "nbformat_minor": 5
}
